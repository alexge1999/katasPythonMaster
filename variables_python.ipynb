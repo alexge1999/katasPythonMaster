{
 "cells": [
  {
   "cell_type": "code",
   "execution_count": 2,
   "id": "3f7d9d91",
   "metadata": {},
   "outputs": [
    {
     "name": "stdout",
     "output_type": "stream",
     "text": [
      "{'e': 6, 'n': 5, 'u': 4, 'l': 2, 'g': 1, 'a': 6, 'r': 5, 'd': 3, 'm': 3, 'c': 3, 'h': 1, 'y': 1, 'o': 5, 'b': 1, 'q': 1, 'i': 1}\n"
     ]
    }
   ],
   "source": [
    "\"\"\"\n",
    "Escribe una función que reciba una cadena de texto como parámetro y devuelva un diccionario con las frecuencias\n",
    "de cada letra en la cadena. Los espacios no deben ser considerados.\n",
    "\"\"\"\n",
    "\n",
    "texto_contar = input(\"Introduzca el texto: \")\n",
    "\n",
    "def funcion_contar(texto):\n",
    "    frecuencia = {}\n",
    "    for letra in texto:\n",
    "        if letra != \" \":\n",
    "            if letra in frecuencia:\n",
    "                frecuencia[letra] +=1\n",
    "            else:\n",
    "                frecuencia[letra] = 1\n",
    "    \n",
    "    return frecuencia\n",
    "\n",
    "print(funcion_contar(texto_contar))"
   ]
  },
  {
   "cell_type": "code",
   "execution_count": null,
   "id": "21f8d8e4",
   "metadata": {},
   "outputs": [
    {
     "name": "stdout",
     "output_type": "stream",
     "text": [
      "la lista original antes de elevar cada elemento al cuadrado es: [1, 3, 5, 7, 9, 11, 13]\n",
      "La lista tras doblar los numeros es: [2, 6, 10, 14, 18, 22, 26]\n"
     ]
    }
   ],
   "source": [
    "#Dada una lista de números, obtén una nueva lista con el doble de cada valor. Usa la función map()\n",
    "\n",
    "#definimos el array y la función para calcular el doble de cada valor.\n",
    "lista_numeros = [1, 3, 5, 7, 9, 11, 13]\n",
    "print(f\"la lista original antes de elevar cada elemento al cuadrado es: {lista_numeros}\")\n",
    "\n",
    "def doble(num):\n",
    "    return num*2\n",
    "\n",
    "resultado_doble= map(doble, lista_numeros)\n",
    "lista_resultado_map = list(map(doble,lista_numeros))\n",
    "\n",
    "#printamos la lista de numeros tras pasarla por la función.\n",
    "print(f\"La lista tras doblar los numeros es: {lista_resultado_map}\")\n",
    "\n"
   ]
  },
  {
   "cell_type": "code",
   "execution_count": null,
   "id": "d271b235",
   "metadata": {},
   "outputs": [
    {
     "name": "stdout",
     "output_type": "stream",
     "text": [
      "['manzana', 'banana', 'naranja', 'mandarina', 'sandía']\n"
     ]
    }
   ],
   "source": [
    "#Escribe una función que tome una lista de palabras y una palabra objetivo como parámetros. La función debe\n",
    "#devolver una lista con todas las palabras de la lista original que contengan la palabra objetivo.\n",
    "\n",
    "lista = [\"manzana\", \"banana\", \"naranja\", \"mandarina\", \"sandía\", \"fresa\", \"melocoton\"]\n",
    "objetivo = \"an\"\n",
    "\n",
    "def palabras_que_contienen(lista_palabras, palabra_objetivo):\n",
    "    resultado = []\n",
    "    for palabra in lista_palabras:\n",
    "        if palabra_objetivo in palabra:\n",
    "            resultado.append(palabra)\n",
    "    return resultado\n",
    "\n",
    "# Printamos la lista de palabras que cumplen el requisito:\n",
    "print(palabras_que_contienen(lista, objetivo))"
   ]
  },
  {
   "cell_type": "code",
   "execution_count": null,
   "id": "752ee250",
   "metadata": {},
   "outputs": [
    {
     "name": "stdout",
     "output_type": "stream",
     "text": [
      "[1, 14, 13, 7]\n"
     ]
    }
   ],
   "source": [
    "#Genera una función que calcule la diferencia entre los valores de dos listas. Usa la función map()\n",
    "\n",
    "a = [10, 20, 30, 40]\n",
    "b = [9, 6, 17, 33]\n",
    "\n",
    "def resta(x, y):\n",
    "    return x - y\n",
    "\n",
    "def diferencia_listas(lista1, lista2):\n",
    "    return list(map(resta, lista1, lista2))\n",
    "\n",
    "print(diferencia_listas(a, b)) "
   ]
  },
  {
   "cell_type": "code",
   "execution_count": 3,
   "id": "5f16ae5f",
   "metadata": {},
   "outputs": [
    {
     "name": "stdout",
     "output_type": "stream",
     "text": [
      "(8.0, 'aprobado')\n",
      "(8.0, 'aprobado')\n"
     ]
    }
   ],
   "source": [
    "\"\"\"\n",
    "Escribe una función que tome una lista de números como parámetro y un valor opcional nota_aprobado, que por\n",
    "defecto es 5. La función debe calcular la media de los números en la lista y determinar si la media es mayor o igual\n",
    "que nota aprobado. Si es así, el estado será \"aprobado\", de lo contrario, será \"suspenso\". La función debe devolver\n",
    "una tupla que contenga la media y el estado.\n",
    "\"\"\"\n",
    "\n",
    "#Definimos la nota de aprobado y las notas y planteamos la función y sus dos print.\n",
    "\n",
    "notas = list(map(float, input(\"Introduce las notas separadas por espacios: \").split()))\n",
    "\n",
    "def evaluar_media(lista_numeros, nota_aprobado = 5):\n",
    "    media = sum(lista_numeros) / len(lista_numeros)\n",
    "    estado = \"aprobado\" if media >= nota_aprobado else \"suspenso\"\n",
    "    return (media, estado)\n",
    "\n",
    "\n",
    "print(evaluar_media(notas))\n"
   ]
  },
  {
   "cell_type": "code",
   "execution_count": null,
   "id": "40ef631b",
   "metadata": {},
   "outputs": [
    {
     "name": "stdout",
     "output_type": "stream",
     "text": [
      "123587405826548875014395199766546457224532073946919515879429330230093035357491314216934583295011178445941552109432761532449767761892237043444942213964090091669490545661255111334533069825455607852789836451585122902099649977304226794874840601811017764137584868137504975397325925882541777117706619490238363409254589994079334626893194608016888986949684994333459029365214555784862353939102567266745712846824819004146064184543888123533464975621179287075018586481357643313075153359002713294611632614208134036650116689052585573350955360246170451786972351365370405722036294385680478287278827977511411909071460914807681131728232182991517416470483157998067487290163200000000000000000000000000000000000000000000000000000000000000000000000000000000000000\n"
     ]
    }
   ],
   "source": [
    "#Escribe una función que calcule el factorial de un número de manera recursiva\n",
    "\n",
    "#Pedimos un numero al usuario y lo ingresamos para su calculo:\n",
    "n = int(input(\"Introduce un número: \"))\n",
    "\n",
    "\n",
    "def factorial(n):\n",
    "    if n == 0 or n == 1:\n",
    "        return 1\n",
    "    else:\n",
    "        return n * factorial(n - 1)\n",
    "\n",
    "\n",
    "print(factorial(n))"
   ]
  },
  {
   "cell_type": "code",
   "execution_count": 7,
   "id": "a65ccaef",
   "metadata": {},
   "outputs": [
    {
     "name": "stdout",
     "output_type": "stream",
     "text": [
      "[\"('hola', 'mundo')\", \"('adios', 'amigo')\"]\n"
     ]
    }
   ],
   "source": [
    "#Genera una función que convierta una lista de tuplas a una lista de strings. Usa la función map()\n",
    "\n",
    "entrada = input(\"Introduce el texto separado por punto y coma: \")\n",
    "\n",
    "lista_tuplas = [tuple(t.strip().split(', ')) for t in entrada.split(';')]\n",
    "\n",
    "\n",
    "def tuplas_a_strings(lista_tuplas):\n",
    "    return list(map(str, lista_tuplas))\n",
    "\n",
    "\n",
    "print(tuplas_a_strings(lista_tuplas))"
   ]
  },
  {
   "cell_type": "code",
   "execution_count": null,
   "id": "21a18769",
   "metadata": {},
   "outputs": [
    {
     "name": "stdout",
     "output_type": "stream",
     "text": [
      "El resultado es: 4.0\n"
     ]
    }
   ],
   "source": [
    "\"\"\"\n",
    "Escribe un programa que pida al usuario dos números e intente dividirlos. Si el usuario ingresa un valor no numérico\n",
    "o intenta dividir por cero, maneja esas excepciones de manera adecuada. Asegúrate de mostrar un mensaje\n",
    "indicando si la división fue exitosa o no.\n",
    "\"\"\"\n",
    "\n",
    "#Usamos el try para capturar las excepciones que puedan surgir.\n",
    "\n",
    "try:\n",
    "    num1 = float(input(\"Introduce el primer número: \"))\n",
    "    num2 = float(input(\"Introduce el segundo número: \"))\n",
    "    resultado = num1 / num2\n",
    "except ValueError:\n",
    "    print(\"Error: Debes introducir valores numéricos.\")\n",
    "except ZeroDivisionError:\n",
    "    print(\"Error: No se puede dividir por cero.\")\n",
    "else:\n",
    "    print(f\"El resultado es: {resultado}\")"
   ]
  },
  {
   "cell_type": "code",
   "execution_count": null,
   "id": "db5dd8d2",
   "metadata": {},
   "outputs": [
    {
     "name": "stdout",
     "output_type": "stream",
     "text": [
      "['Perro', 'Gato', 'Conejo', 'Loro', 'Serpiente']\n"
     ]
    }
   ],
   "source": [
    "\"\"\"\n",
    "Escribe una función que tome una lista de nombres de mascotas como parámetro y devuelva una nueva lista\n",
    "excluyendo ciertas mascotas prohibidas en España. La lista de mascotas a excluir es [\"Mapache\", \"Tigre\",\n",
    "\"Serpiente Pitón\", \"Cocodrilo\", \"Oso\"].Usa la función filter()\n",
    "\"\"\"\n",
    "# Usamos mascotas_prohibidas para marcar las excepciones.\n",
    "\n",
    "mascotas = [\"Perro\", \"Gato\", \"Tigre\", \"Conejo\", \"Mapache\", \"Loro\", \"Serpiente\", \"Serpiente Pitón\"]\n",
    "mascotas_prohibidas = [\"Mapache\", \"Tigre\", \"Serpiente Pitón\", \"Cocodrilo\", \"Oso\"]\n",
    "\n",
    "def filtrar_mascotas(lista_mascotas):\n",
    "    return list(filter(lambda m: m not in mascotas_prohibidas, lista_mascotas))\n",
    "\n",
    "\n",
    "print(filtrar_mascotas(mascotas))\n"
   ]
  },
  {
   "cell_type": "code",
   "execution_count": null,
   "id": "e88fa406",
   "metadata": {},
   "outputs": [
    {
     "name": "stdout",
     "output_type": "stream",
     "text": [
      "El promedio es: 3.0\n"
     ]
    }
   ],
   "source": [
    "\"\"\"\n",
    "Escribe una función que reciba una lista de números y calcule su promedio. Si la lista está vacía, lanza una\n",
    "excepción personalizada y maneja el error adecuadamente.\n",
    "\"\"\"\n",
    "class ListaVaciaError(Exception):\n",
    "    pass\n",
    "\n",
    "def promedio(lista):\n",
    "    if not lista:\n",
    "        raise ListaVaciaError(\"Error de entrada: la lista está vacía, no se puede calcular el promedio.\")\n",
    "    return sum(lista) / len(lista)\n",
    "\n",
    "try:\n",
    "    numeros = [1, 2, 3, 4, 5]  \n",
    "    print(\"El promedio es:\", promedio(numeros))\n",
    "except ListaVaciaError as e:\n",
    "    print(e)\n"
   ]
  },
  {
   "cell_type": "code",
   "execution_count": null,
   "id": "6e842d3e",
   "metadata": {},
   "outputs": [
    {
     "name": "stdout",
     "output_type": "stream",
     "text": [
      "Tu edad es: 33\n"
     ]
    }
   ],
   "source": [
    "\"\"\"\n",
    " Escribe un programa que pida al usuario que introduzca su edad. Si el usuario ingresa un valor no numérico o un\n",
    "valor fuera del rango esperado por ejemplo, menor que 0 o mayor que 120, maneja las excepciones\n",
    "adecuadamente.\n",
    "\"\"\"\n",
    "try:\n",
    "    edad = int(input(\"Introduce tu edad: \"))\n",
    "    if edad < 0 or edad > 120:\n",
    "        raise ValueError(\"La edad debe estar entre 0 y 120.\")\n",
    "except ValueError as e:\n",
    "    print(f\"Error: {e}\")\n",
    "else:\n",
    "     print(f\"Tu edad es: {edad}\")\n"
   ]
  },
  {
   "cell_type": "code",
   "execution_count": null,
   "id": "7f7d543b",
   "metadata": {},
   "outputs": [
    {
     "name": "stdout",
     "output_type": "stream",
     "text": [
      "la comida ya esta\n",
      "[2, 6, 2, 4]\n"
     ]
    }
   ],
   "source": [
    "#Genera una función que al recibir una frase devuelva una lista con la longitud de cada palabra. Usa la función map()\n",
    "\n",
    "frase = input(\"Introduce una frase: \")\n",
    "def longitudes_palabras(frase):\n",
    "    return list(map(len, frase.split()))\n",
    "\n",
    "print(frase)\n",
    "print(longitudes_palabras(frase))"
   ]
  },
  {
   "cell_type": "code",
   "execution_count": null,
   "id": "630fb5ac",
   "metadata": {},
   "outputs": [
    {
     "name": "stdout",
     "output_type": "stream",
     "text": [
      "[('I', 'i'), ('M', 'm'), ('C', 'c'), ('E', 'e'), ('A', 'a'), ('Y', 'y'), ('L', 'l'), ('O', 'o'), ('T', 't'), ('D', 'd'), ('L', 'l'), ('S', 's')]\n"
     ]
    }
   ],
   "source": [
    "#Genera una función la cual, para un conjunto de caracteres, devuelva una lista de tuplas con cada letra en\n",
    "#mayúsculas y minúsculas. Las letras no pueden estar repetidas .Usa la función map()\n",
    "\n",
    "caracteres = input(\"Introduce un conjunto de caracteres: \")\n",
    "def mayus_minus_letras(cadena):\n",
    "    letras_unicas = set(cadena.replace(\" \", \"\"))\n",
    "    return list(map(lambda l: (l.upper(), l.lower()), letras_unicas))\n",
    "\n",
    "\n",
    "print(mayus_minus_letras(caracteres))"
   ]
  },
  {
   "cell_type": "code",
   "execution_count": 9,
   "id": "cafc2971",
   "metadata": {},
   "outputs": [
    {
     "name": "stdout",
     "output_type": "stream",
     "text": [
      "['manzana', 'melón', 'mandarina']\n"
     ]
    }
   ],
   "source": [
    "#Crea una función que retorne las palabras de una lista de palabras que comience con una letra en especifico. Usa la\n",
    "#función filter()\n",
    "\n",
    "palabras = [\"manzana\", \"banana\", \"melón\", \"mandarina\", \"sandía\", \"fresa\"]\n",
    "letra = input(\"Introduce la letra inicial: \")\n",
    "\n",
    "def palabras_con_letra(lista_palabras, letra):\n",
    "    return list(filter(lambda palabra: palabra.startswith(letra), lista_palabras))\n",
    "\n",
    "\n",
    "print(palabras_con_letra(palabras, letra))"
   ]
  },
  {
   "cell_type": "code",
   "execution_count": 11,
   "id": "ed318b01",
   "metadata": {},
   "outputs": [
    {
     "name": "stdout",
     "output_type": "stream",
     "text": [
      "[4, 5, 6, 7, 8]\n"
     ]
    }
   ],
   "source": [
    "#Crea una función lambda que sume 3 a cada número de una lista dada.\n",
    "\n",
    "numeros = [1, 2, 3, 4, 5]\n",
    "sumar_tres = list(map(lambda x: x + 3, numeros))\n",
    "print(sumar_tres)"
   ]
  },
  {
   "cell_type": "code",
   "execution_count": 12,
   "id": "bf9d4a9e",
   "metadata": {},
   "outputs": [
    {
     "name": "stdout",
     "output_type": "stream",
     "text": [
      "['gente', 'madrid', 'locos', 'todos']\n"
     ]
    }
   ],
   "source": [
    "#Escribe una función que tome una cadena de texto y un número entero n como parámetros y devuelva \n",
    "# una lista de todas las palabras que sean más largas que n. Usa la función filter()\n",
    "\n",
    "cadena = input(\"Introduce una frase: \")\n",
    "n = int(input(\"Introduce el valor de n: \"))\n",
    "\n",
    "def palabras_mas_largas_que(texto, n):\n",
    "    palabras = texto.split()\n",
    "    return list(filter(lambda palabra: len(palabra) > n, palabras))\n",
    "\n",
    "print(palabras_mas_largas_que(cadena, n))"
   ]
  },
  {
   "cell_type": "code",
   "execution_count": null,
   "id": "3557b197",
   "metadata": {},
   "outputs": [],
   "source": [
    "#Crea una función que tome una lista de dígitos y devuelva el número correspondiente. Por ejemplo, (5,7,2)\n",
    "#corresponde al número quinientos setenta y dos (572). Usa la función reduce()\n",
    "\n",
    "from functools import reduce\n",
    "\n",
    "# Solicitamos al usuario los dígitos separados por comas\n",
    "entrada = input(\"Introduce los dígitos separados por comas: \")\n",
    "digitos = list(map(int, entrada.split(',')))\n",
    "\n",
    "def unir_digitos(lista_digitos):\n",
    "    return reduce(lambda x, y: x * 10 + y, lista_digitos)\n",
    "print(f\"El número formado por los dígitos es: {unir_digitos(digitos)}\")"
   ]
  },
  {
   "cell_type": "code",
   "execution_count": null,
   "id": "84439159",
   "metadata": {},
   "outputs": [
    {
     "name": "stdout",
     "output_type": "stream",
     "text": [
      "[{'nombre': 'Ana', 'edad': 20, 'calificacion': 95}, {'nombre': 'Marta', 'edad': 21, 'calificacion': 92}, {'nombre': 'Lucía', 'edad': 20, 'calificacion': 90}]\n"
     ]
    }
   ],
   "source": [
    "\"\"\"\n",
    "Escribe un programa en Python que cree una lista de diccionarios que contenga información de estudiantes\n",
    "(nombre, edad, calificación) y use la función filter para extraer a los estudiantes con una calificación mayor o igual a\n",
    "90. Usa la función filter()\n",
    "\"\"\"\n",
    "# Creamos la lista con información de estudiantes\n",
    "estudiantes = [\n",
    "    {\"nombre\": \"Ana\", \"edad\": 20, \"calificacion\": 95},\n",
    "    {\"nombre\": \"Luis\", \"edad\": 22, \"calificacion\": 88},\n",
    "    {\"nombre\": \"Marta\", \"edad\": 21, \"calificacion\": 92},\n",
    "    {\"nombre\": \"Pedro\", \"edad\": 23, \"calificacion\": 85},\n",
    "    {\"nombre\": \"Lucía\", \"edad\": 20, \"calificacion\": 90}\n",
    "]\n",
    "estudiantes_destacados = list(filter(lambda est: est[\"calificacion\"] >= 90, estudiantes))\n",
    "\n",
    "print(estudiantes_destacados)"
   ]
  },
  {
   "cell_type": "code",
   "execution_count": 2,
   "id": "fab0b675",
   "metadata": {},
   "outputs": [
    {
     "name": "stdout",
     "output_type": "stream",
     "text": [
      "[1, 5, 7, 11, 13, 21]\n"
     ]
    }
   ],
   "source": [
    "# Crea una función lambda que filtre los números impares de una lista dada\n",
    "\n",
    "numeros = input(\"Introduce una lista de números separados por espacios: \")\n",
    "numeros = list(map(int, numeros.split(' ')))\n",
    "numeros_impares = list(filter(lambda x: x % 2 != 0, numeros))\n",
    "\n",
    "print(numeros_impares)"
   ]
  },
  {
   "cell_type": "code",
   "execution_count": null,
   "id": "4b665135",
   "metadata": {},
   "outputs": [],
   "source": [
    "# Para una lista con elementos tipo integer y string obtén una nueva lista sólo con los valores int. \n",
    "# Usa la función filter().\n",
    "\n",
    "entrada = input(\"Introduce una lista de elementos (números y cadenas) separados por comas: \")\n",
    "lista_elementos = entrada.split(',')\n",
    "\n",
    "def filtrar_enteros(lista):\n",
    "    return list(filter(lambda x: x.isdigit(), lista))\n",
    "print(filtrar_enteros(lista_elementos))"
   ]
  },
  {
   "cell_type": "code",
   "execution_count": null,
   "id": "8b1ecd27",
   "metadata": {},
   "outputs": [],
   "source": [
    "# Crea una función que calcule el cubo de un número dado mediante una función lambda\n",
    "\n",
    "numero = int(input(\"Introduce un número: \"))\n",
    "\n",
    "cubo = lambda x: x ** 3\n",
    "print(f\"El cubo de {numero} es: {cubo(numero)}\")    \n"
   ]
  },
  {
   "cell_type": "code",
   "execution_count": null,
   "id": "45ce90c9",
   "metadata": {},
   "outputs": [],
   "source": [
    "# Dada una lista numérica, obtén el producto total de los valores de dicha lista. Usa la función reduce().\n",
    "\n",
    "from functools import reduce\n",
    "numeros = input(\"Introduce una lista de números separados por espacios: \")\n",
    "numeros = list(map(int, numeros.split(' ')))\n",
    "\n",
    "def producto_total(lista_numeros):\n",
    "    return reduce(lambda x, y: x * y, lista_numeros)\n",
    "\n",
    "print(producto_total(numeros))"
   ]
  },
  {
   "cell_type": "code",
   "execution_count": null,
   "id": "98ffdc08",
   "metadata": {},
   "outputs": [
    {
     "name": "stdout",
     "output_type": "stream",
     "text": [
      "playa montaña ciudad campo río\n"
     ]
    }
   ],
   "source": [
    "# Concatena una lista de palabras. Usa la función reduce().\n",
    "\n",
    "from functools import reduce\n",
    "\n",
    "lista_palabras = [\"playa\", \"montaña\", \"ciudad\", \"campo\", \"río\"]\n",
    "\n",
    "def concatenar_palabras(lista):\n",
    "    return reduce(lambda x, y: x + \" \" + y, lista)\n",
    "print(concatenar_palabras(lista_palabras))"
   ]
  },
  {
   "cell_type": "code",
   "execution_count": null,
   "id": "184bf9b6",
   "metadata": {},
   "outputs": [],
   "source": [
    "# Calcula la diferencia total en los valores de una lista. Usa la función reduce() .\n",
    "\n",
    "from functools import reduce\n",
    "\n",
    "lista_numeros = input(\"Introduce una lista de números separados por espacios: \")\n",
    "lista_numeros = list(map(int, lista_numeros.split(' ')))\n",
    "\n",
    "def diferencia_total(lista):\n",
    "    return reduce(lambda x, y: x - y, lista)\n",
    "\n",
    "print(diferencia_total(lista_numeros))"
   ]
  },
  {
   "cell_type": "code",
   "execution_count": 3,
   "id": "5cdfd02d",
   "metadata": {},
   "outputs": [
    {
     "name": "stdout",
     "output_type": "stream",
     "text": [
      "El número de caracteres en la cadena es: 0\n"
     ]
    }
   ],
   "source": [
    "# Crea una función que cuente el número de caracteres en una cadena de texto dada.\n",
    "\n",
    "texto = input(\"Introduce una cadena de texto: \")\n",
    "def contar_caracteres(cadena):\n",
    "    return len(cadena)\n",
    "\n",
    "print(f\"El número de caracteres en la cadena es: {contar_caracteres(texto)}\")"
   ]
  },
  {
   "cell_type": "code",
   "execution_count": null,
   "id": "8c872a75",
   "metadata": {},
   "outputs": [],
   "source": [
    " #Crea una función lambda que calcule el resto de la división entre dos números dados.\n",
    "\n",
    "numero1 = int(input(\"Introduce el primer número: \"))\n",
    "numero2 = int(input(\"Introduce el segundo número: \"))\n",
    "\n",
    "resto = lambda x, y: x % y\n",
    "\n",
    "print(f\"El resto de la división entre {numero1} y {numero2} es: {resto(numero1, numero2)}\")"
   ]
  },
  {
   "cell_type": "code",
   "execution_count": null,
   "id": "d2cb3086",
   "metadata": {},
   "outputs": [],
   "source": [
    "# Crea una función que calcule el promedio de una lista de números\n",
    "\n",
    "lista_numeros = list(map(float, input(\"Introduce una lista de números separados por comas: \").split(',')))\n",
    "\n",
    "def calcular_promedio(lista_numeros):\n",
    "    if not lista_numeros:\n",
    "        return 0\n",
    "    return sum(lista_numeros) / len(lista_numeros)"
   ]
  },
  {
   "cell_type": "code",
   "execution_count": null,
   "id": "697c69d2",
   "metadata": {},
   "outputs": [],
   "source": [
    "# Crea una función que busque y devuelva el primer elemento duplicado en una lista dada.\n",
    "lista = list(map(int, input(\"Introduce una lista de números separados por comas: \").split(',')))\n",
    "\n",
    "def primer_duplicado(lista):\n",
    "    vistos = set()\n",
    "    for elemento in lista:\n",
    "        if elemento in vistos:\n",
    "            return elemento\n",
    "        vistos.add(elemento)\n",
    "    return None "
   ]
  },
  {
   "cell_type": "code",
   "execution_count": null,
   "id": "a66a1cb8",
   "metadata": {},
   "outputs": [],
   "source": [
    "# Crea una función que convierta una variable en una cadena de texto y \n",
    "# enmascare todos los caracteres con el carácter '#', excepto los últimos cuatro.\n",
    "\n",
    "variable = input(\"Introduce una variable: \")\n",
    "def enmascarar_variable(variable):\n",
    "    if len(variable) <= 4:\n",
    "        return variable\n",
    "    return '#' * (len(variable) - 4) + variable[-4:]\n",
    "\n",
    "print(f\"Variable enmascarada: {enmascarar_variable(variable)}\")"
   ]
  },
  {
   "cell_type": "code",
   "execution_count": null,
   "id": "8069d5cc",
   "metadata": {},
   "outputs": [],
   "source": [
    "# Crea una función que determine si dos palabras son anagramas, es decir, si \n",
    "# están formadas por las mismas letras pero en diferente orden.\n",
    "\n",
    "palabra1 = input(\"Introduce la primera palabra: \")\n",
    "palabra2 = input(\"Introduce la segunda palabra: \")\n",
    "\n",
    "def son_anagramas(palabra1, palabra2):\n",
    "    return sorted(p1) == sorted(p2)\n",
    "\n",
    "if son_anagramas(palabra1, palabra2):\n",
    "    print(f\"Las palabras '{palabra1}' y '{palabra2}' son anagramas\")\n",
    "else:\n",
    "    print(f\"Las palabras '{palabra1}' y '{palabra2}' NO son anagramas\")"
   ]
  },
  {
   "cell_type": "code",
   "execution_count": null,
   "id": "218b2b0b",
   "metadata": {},
   "outputs": [],
   "source": [
    "\"\"\"\n",
    "Crea una función que solicite al usuario ingresar una lista de nombres y luego solicite un nombre para buscar en\n",
    "esa lista. Si el nombre está en la lista, se imprime un mensaje indicando que fue encontrado, de lo contrario, se\n",
    "lanza una excepción.\n",
    "\"\"\"\n",
    "\n",
    "lista_nombres = input(\"Introduce una lista de nombres separados por comas: \").split(',')\n",
    "nombre_buscar = input(\"Introduce el nombre a buscar: \")\n",
    "\n",
    "def buscar_nombre(lista_nombres, nombre):\n",
    "    if nombre in lista_nombres:\n",
    "        return f\"El nombre '{nombre}' fue encontrado en la lista.\"\n",
    "    else:\n",
    "        raise ValueError(f\"El nombre '{nombre}' no se encuentra en la lista.\")"
   ]
  },
  {
   "cell_type": "code",
   "execution_count": null,
   "id": "1be9795a",
   "metadata": {},
   "outputs": [],
   "source": [
    "\"\"\"\n",
    "Crea una función que tome un nombre completo y una lista de empleados, busque el nombre completo en la lista y\n",
    "devuelve el puesto del empleado si está en la lista, de lo contrario, devuelve un mensaje indicando que la persona\n",
    "no trabaja aquí.\n",
    "\"\"\"\n",
    "nombre_completo = input(\"Introduce el nombre completo: \")\n",
    "lista_empleados = [\n",
    "    {\"nombre\": \"Ana Pérez\", \"puesto\": \"Gerente\"},\n",
    "    {\"nombre\": \"Luis García\", \"puesto\": \"Desarrollador\"},\n",
    "    {\"nombre\": \"Marta Ruiz\", \"puesto\": \"Desarrollador\"},\n",
    "    {\"nombre\": \"Pedro Martínez\", \"puesto\": \"RRHH\"},\n",
    "    {\"nombre\": \"Lucía García\", \"puesto\": \"Marketing\"}\n",
    "]\n",
    "\n",
    "def buscar_empleado(nombre_completo, lista_empleados):\n",
    "    for empleado in lista_empleados:\n",
    "        if empleado[\"nombre\"] == nombre_completo:\n",
    "            return f\"{empleado['nombre']} trabaja como {empleado['puesto']}.\"\n",
    "    return \"La persona no trabaja aquí.\""
   ]
  },
  {
   "cell_type": "code",
   "execution_count": null,
   "id": "8fb27143",
   "metadata": {},
   "outputs": [],
   "source": [
    "# Crea una función lambda que sume elementos correspondientes de dos listas dadas.\n",
    "\n",
    "lista1 = [10, 20, 30]\n",
    "lista2 = [7, 8, 9]\n",
    "\n",
    "suma_elementos = lambda x, y: x + y\n",
    "resultado_suma = list(map(suma_elementos, lista1, lista2))\n",
    "\n",
    "print(f\"La suma de los elementos correspondientes de las listas es: {resultado_suma}\")"
   ]
  },
  {
   "cell_type": "code",
   "execution_count": null,
   "id": "329a184b",
   "metadata": {},
   "outputs": [
    {
     "name": "stdout",
     "output_type": "stream",
     "text": [
      "Tronco: 2, Número de ramas: 2, Longitud de las ramas: [2, 1]\n"
     ]
    }
   ],
   "source": [
    "\"\"\"\n",
    "Crea la clase Arbol , define un árbol genérico con un tronco y ramas como atributos. Los métodos disponibles son:\n",
    "crecer_tronco , nueva_rama , crecer_ramas , quitar_rama e info_arbol . El objetivo es implementar estos métodos para\n",
    "manipular la estructura del árbol\n",
    "\"\"\"\n",
    "\n",
    "class Arbol:\n",
    "    def __init__(self):\n",
    "        self.tronco = 1\n",
    "        self.ramas = []\n",
    "\n",
    "    def crecer_tronco(self):\n",
    "        self.tronco += 1\n",
    "\n",
    "    def nueva_rama(self):\n",
    "        self.ramas.append(1)\n",
    "\n",
    "    def crecer_ramas(self):\n",
    "        self.ramas = [rama + 1 for rama in self.ramas]\n",
    "\n",
    "    def quitar_rama(self, posicion):\n",
    "        if 0 <= posicion < len(self.ramas):\n",
    "            self.ramas.pop(posicion)\n",
    "        else:\n",
    "            print(\"Rama no válida.\")\n",
    "\n",
    "    def info_arbol(self):\n",
    "        return (f\"Tronco: {self.tronco}, \"\n",
    "                f\"Número de ramas: {len(self.ramas)}, \"\n",
    "                f\"Longitud de las ramas: {self.ramas}\")\n",
    "\n",
    "# 1. Crear un árbol\n",
    "arbol = Arbol() \n",
    "# 2. Hacer crecer el tronco uno de tamaño             \n",
    "arbol.crecer_tronco()\n",
    "# 3. Añadir una nueva rama \n",
    "arbol.nueva_rama()           \n",
    "# 4. Hacer crecer todas las ramas un tamaño\n",
    "arbol.crecer_ramas()\n",
    "# 5. Añadimos dos nuevas ramas         \n",
    "arbol.nueva_rama()           \n",
    "arbol.nueva_rama()\n",
    "# 6. Retirar la rama en la posición 2 de la queue\n",
    "arbol.quitar_rama(2)\n",
    "# 7. Obtener información sobre el árbol.\n",
    "print(arbol.info_arbol())    \n",
    "    \n"
   ]
  },
  {
   "cell_type": "code",
   "execution_count": null,
   "id": "5c700e22",
   "metadata": {},
   "outputs": [
    {
     "name": "stdout",
     "output_type": "stream",
     "text": [
      "Saldo de Alicia: 120\n",
      "Saldo de Bob: 0\n"
     ]
    }
   ],
   "source": [
    "\"\"\"\n",
    "Crea la clase UsuarioBanco ,representa a un usuario de un banco con su nombre, saldo y si tiene o no cuenta corriente. \n",
    "Proporciona métodos para realizar operaciones como retirar dinero, transferir dinero desde otro usuario y agregar dinero al saldo.\n",
    "\"\"\"\n",
    "# Inicializar un usuario con su nombre, saldo y si tiene o no cuenta corriente mediante True y False .\n",
    "# Implementar el método retirar_dinero para retirar dinero del saldo del usuario. Lanzará un error en caso de no poder hacerse.\n",
    "# Implementar el método transferir_dinero para realizar una transferencia desde otro usuario al usuario actual. Lanzará un error en caso de no poder hacerse.\n",
    "# Implementar el método agregar_dinero para agregar dinero al saldo del usuario.\n",
    "\n",
    "class UsuarioBanco:\n",
    "    def __init__(self, nombre, saldo_inicial, cuenta_corriente=True):\n",
    "        self.nombre = nombre\n",
    "        self.saldo = saldo_inicial\n",
    "        self.cuenta_corriente = cuenta_corriente\n",
    "\n",
    "    def retirar_dinero(self, cantidad):\n",
    "        if cantidad > self.saldo:\n",
    "            raise ValueError(\"Saldo insuficiente para retirar esta cantidad.\")\n",
    "        self.saldo -= cantidad\n",
    "\n",
    "    def transferir_dinero(self, otro_usuario, cantidad):\n",
    "        if not otro_usuario.cuenta_corriente:\n",
    "            raise ValueError(\"El usuario no tiene cuenta corriente.\")\n",
    "        if cantidad > self.saldo:\n",
    "            raise ValueError(\"Saldo insuficiente para realizar la transferencia.\")\n",
    "        otro_usuario.saldo += cantidad\n",
    "        self.saldo -= cantidad\n",
    "\n",
    "    def agregar_dinero(self, cantidad):\n",
    "        self.saldo += cantidad\n",
    "\n",
    "# Crear dos usuarios: \"Alicia\" con saldo inicial de 100 y \"Bob\" con saldo inicial de 50, ambos con cuenta corriente.\n",
    "alicia = UsuarioBanco(\"Alicia\", 100)\n",
    "bob = UsuarioBanco(\"Bob\", 50)\n",
    "# Agregar 20 unidades de saldo de \"Bob\".\n",
    "bob.agregar_dinero(20)\n",
    "# En el ejercicio se indica que \"Bob\" tiene una transferencia de 80 unidades, pero como su saldo es de 70, se transfiere esa cantidad.\n",
    "# Si se quisiera transferir 80 unidades, se lanzaría un error de saldo insuficiente\n",
    "# Así sería manejando el error: \n",
    "# try:\n",
    "#    bob.transferir_dinero(alicia, 80)\n",
    "# except ValueError as e:\n",
    "#    print(f\"Error al transferir dinero: {e}\")\n",
    "\n",
    "bob.transferir_dinero(alicia, 70)\n",
    "\n",
    "# Retirar 50 unidades de saldo a \"Alicia\".\n",
    "alicia.retirar_dinero(50)\n",
    "# Printamos el saldo de ambos usuarios para verificar las operaciones.\n",
    "print(f\"Saldo de Alicia: {alicia.saldo}\")\n",
    "print(f\"Saldo de Bob: {bob.saldo}\")\n",
    "\n"
   ]
  },
  {
   "cell_type": "code",
   "execution_count": null,
   "id": "746a201f",
   "metadata": {},
   "outputs": [],
   "source": [
    "\"\"\"\n",
    "Crea una función llamada procesar_texto que procesa un texto según la opción especificada: contar_palabras, reemplazar_palabras, eliminar_palabra.\n",
    "Estas opciones son otras funciones que tenemos que definir primero y llamar dentro de la función procesar_texto.\n",
    "\"\"\"\n",
    "\n",
    "# Crear una función contar_palabras para contar el número de veces que aparece cada palabra en el texto. Tiene que devolver un diccionario.\n",
    "def contar_palabras(texto):\n",
    "    palabras = texto.split()\n",
    "    contador = {}\n",
    "    for palabra in palabras:\n",
    "        if palabra in contador:\n",
    "            contador[palabra] += 1\n",
    "        else:\n",
    "            contador[palabra] = 1\n",
    "    return contador\n",
    "# Crear una función reemplazar_palabras para remplazar una palabra_original del texto por una palabra_nueva. Tiene que devolver el texto con el remplazo de palabras.\n",
    "def reemplazar_palabras(texto, palabra_original, palabra_nueva):\n",
    "    return texto.replace(palabra_original, palabra_nueva)\n",
    "# Crear una función eliminar_palabra para eliminar una palabra del texto. Tiene que devolver el texto con la palabra eliminada.\n",
    "def eliminar_palabra(texto, palabra):\n",
    "    palabras = texto.split()\n",
    "    palabras_filtradas = [p for p in palabras if p != palabra]\n",
    "    return ' '.join(palabras_filtradas)\n",
    "# Crear la función procesar_texto que tome un texto, una opción(entre \"contar\", \"reemplazar\", \"eliminar\") y un número de argumentos variable según la opción indicada.\n",
    "def procesar_texto(texto, opcion, *args):\n",
    "    if opcion == \"contar\":\n",
    "        return contar_palabras(texto)\n",
    "    elif opcion == \"reemplazar\":\n",
    "        if len(args) != 2:\n",
    "            raise ValueError(\"Se requieren dos argumentos para reemplazar: palabra_original y palabra_nueva.\")\n",
    "        return reemplazar_palabras(texto, args[0], args[1])\n",
    "    elif opcion == \"eliminar\":\n",
    "        if len(args) != 1:\n",
    "            raise ValueError(\"Se requiere un argumento para eliminar: palabra.\")\n",
    "        return eliminar_palabra(texto, args[0])\n",
    "    else:\n",
    "        raise ValueError(\"Opción no válida. Debe ser 'contar', 'reemplazar' o 'eliminar'.\")\n",
    "# Comprueba el funcionamiento completo de la función procesar_texto\n",
    "\n",
    "texto = \"En un lugar de La Mancha, de cuyo nombre no quiero acordarme, no ha mucho tiempo que vivía un hidalgo\""
   ]
  },
  {
   "cell_type": "code",
   "execution_count": 6,
   "id": "1f81590e",
   "metadata": {},
   "outputs": [
    {
     "name": "stdout",
     "output_type": "stream",
     "text": [
      "Es de noche.\n"
     ]
    }
   ],
   "source": [
    "# Genera un programa que nos diga si es de noche, de día o tarde según la hora proporcionada por el usuario.\n",
    "\n",
    "hora = int(input(\"Introduce la hora (0-24): \"))\n",
    "if 0 <= hora < 7:\n",
    "    print(\"Es de noche.\")\n",
    "elif 7 <= hora < 14:\n",
    "    print(\"Es de día.\")\n",
    "elif 14 <= hora < 21:\n",
    "    print(\"Es de tarde.\")\n",
    "elif 21 <= hora < 24:\n",
    "    print(\"Es de noche.\")\n",
    "else:\n",
    "    print(\"Error : La hora debe estar entre 0 y 24.\")"
   ]
  },
  {
   "cell_type": "code",
   "execution_count": null,
   "id": "1e16f701",
   "metadata": {},
   "outputs": [],
   "source": [
    "# Escribe un programa que determine qué calificación en texto tiene un alumno en base a su calificación numérica.\n",
    "\n",
    "calificacion = int(input(\"Introduce la calificación del alumno (0-100): \"))\n",
    "if 0 <= calificacion < 70:\n",
    "    print(\"Insuficiente\")\n",
    "elif 70 <= calificacion < 80:\n",
    "    print(\"Bien\")\n",
    "elif 80 <= calificacion < 90:\n",
    "    print(\"Muy bien\")\n",
    "elif 90 <= calificacion <= 100:\n",
    "    print(\"Excelente\")\n",
    "else:\n",
    "    print(\"Error: La calificación debe estar entre 0 y 100.\")"
   ]
  },
  {
   "cell_type": "code",
   "execution_count": null,
   "id": "157a5ee8",
   "metadata": {},
   "outputs": [
    {
     "name": "stdout",
     "output_type": "stream",
     "text": [
      "Introduce la figura para calcular su área (rectangulo, circulo, triangulo):\n"
     ]
    }
   ],
   "source": [
    "# Escribe una función que tome dos parámetros: figura (una cadena que puede ser \"rectangulo\" , \"circulo\" o \"triangulo\" ) y \n",
    "# datos (una tupla con los datos necesarios para calcular el área de la figura).\n",
    "\n",
    "print(\"Introduce la figura para calcular su área (rectangulo, circulo, triangulo):\")\n",
    "figura = input(\"Figura: \").strip().lower()\n",
    "if figura == \"rectangulo\":\n",
    "    base = float(input(\"Introduce la base del rectángulo: \"))\n",
    "    altura = float(input(\"Introduce la altura del rectángulo: \"))\n",
    "    datos = (base, altura)\n",
    "elif figura == \"circulo\":\n",
    "    radio = float(input(\"Introduce el radio del círculo: \"))\n",
    "    datos = (radio,)\n",
    "elif figura == \"triangulo\":\n",
    "    base = float(input(\"Introduce la base del triángulo: \"))\n",
    "    altura = float(input(\"Introduce la altura del triángulo: \"))\n",
    "    datos = (base, altura)\n",
    "else:\n",
    "    raise ValueError(\"Figura no válida.\")\n",
    "def calcular_area(figura, datos):\n",
    "    if figura == \"rectangulo\":\n",
    "        base, altura = datos\n",
    "        return base * altura\n",
    "    elif figura == \"circulo\":\n",
    "        radio = datos[0]\n",
    "        return 3.14159 * radio ** 2\n",
    "    elif figura == \"triangulo\":\n",
    "        base, altura = datos\n",
    "        return (base * altura) / 2\n",
    "    else:\n",
    "        raise ValueError(\"Figura no válida.\")\n",
    "\n",
    "print(f\"El área del {figura} es: {calcular_area(figura, datos)}\")"
   ]
  },
  {
   "cell_type": "code",
   "execution_count": null,
   "id": "94ec5ea4",
   "metadata": {},
   "outputs": [
    {
     "name": "stdout",
     "output_type": "stream",
     "text": [
      "El precio final después del descuento es: 20.0€\n"
     ]
    }
   ],
   "source": [
    "# En este ejercicio, se te pedirá que escribas un programa en Python que utilice condicionales para determinar el monto final de una compra en una tienda en línea,\n",
    "# después de aplicar un descuento. El programa debe hacer lo siguiente:\n",
    "\n",
    "# 1. Solicita al usuario que ingrese el precio original de un artículo.\n",
    "# 2. Pregunta al usuario si tiene un cupón de descuento (respuesta sí o no).\n",
    "# 3. Si el usuario responde que sí, solicita que ingrese el valor del cupón de descuento.\n",
    "# 4. Aplica el descuento al precio original del artículo, siempre y cuando el valor del cupón sea válido (es decir, mayor a cero).\n",
    "# Por ejemplo, descuento de 15€.\n",
    "# 5. Muestra el precio final de la compra, teniendo en cuenta el descuento aplicado o sin él.\n",
    "# 6. Recuerda utilizar estructuras de control de flujo como if, elif y else para llevar a cabo estas acciones en tu programa de Python.\n",
    "\n",
    "precio_original = float(input(\"Introduce el precio original del artículo: \"))\n",
    "tiene_cupon = input(\"¿Tienes un cupón de descuento? (si/no): \").strip().lower()\n",
    "\n",
    "if tiene_cupon == \"si\":\n",
    "    if precio_original <= 0:\n",
    "        print(\"El precio original debe ser mayor a cero. El precio final es el mismo que el original.\")\n",
    "        precio_final = precio_original\n",
    "    valor_cupon = float(input(\"Introduce el valor del cupón de descuento: \"))\n",
    "\n",
    "    if valor_cupon <= 0:\n",
    "        print(\"El valor del cupón debe ser mayor a cero. El precio final es el mismo que el original.\")\n",
    "        precio_final = precio_original\n",
    "    elif valor_cupon > precio_original:\n",
    "        print(f\"El cupón no puede ser mayor que el precio original. El precio final es: {precio_original}€.\")\n",
    "        precio_final = precio_original\n",
    "    else:\n",
    "        precio_final = precio_original - valor_cupon\n",
    "        print(f\"El precio final después del descuento es: {precio_final}€\")\n",
    "else:\n",
    "    precio_final = precio_original\n",
    "    print(f\"El precio final sin descuento es: {precio_final}€\")\n",
    "\n"
   ]
  }
 ],
 "metadata": {
  "kernelspec": {
   "display_name": "Python 3",
   "language": "python",
   "name": "python3"
  },
  "language_info": {
   "codemirror_mode": {
    "name": "ipython",
    "version": 3
   },
   "file_extension": ".py",
   "mimetype": "text/x-python",
   "name": "python",
   "nbconvert_exporter": "python",
   "pygments_lexer": "ipython3",
   "version": "3.13.5"
  }
 },
 "nbformat": 4,
 "nbformat_minor": 5
}
